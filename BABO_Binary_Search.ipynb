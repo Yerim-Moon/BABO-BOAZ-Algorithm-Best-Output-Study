{
  "nbformat": 4,
  "nbformat_minor": 0,
  "metadata": {
    "colab": {
      "provenance": []
    },
    "kernelspec": {
      "name": "python3",
      "display_name": "Python 3"
    },
    "language_info": {
      "name": "python"
    }
  },
  "cells": [
    {
      "cell_type": "markdown",
      "source": [
        "## 정렬된 배열에서 특정 수의 개수 구하기\n",
        " N개의 원소를 포함하고 있는 수열이 오름차순으로 정렬되어 있습니다. 이때, 이 수열에서 x가 등장하는 횟수를 계산하세요. 예를 들어, {1,1,2,2,2,2,3}이 있을때, x = 2라면, 현재 수열에서 값이 2인 원소가 4개이므로 4를 출력합니다.\n",
        " 단, 이 문제는 시간 복잡도 O(logN)으로 알고리즘을 설계하지 않으면 '시간초과' 판정을 받습니다.\n",
        "\n",
        "**입력 조건**\n",
        "\n",
        "*   첫째 줄에 N과 x가 정수 형태로 공백으로 구분되어 입력됩니다. (-1 <= N <= 1,000,000), (-10^9 <= x <= 10^9)\n",
        "*   둘째 줄에 N개의 원소가 정수 형태로 공백으로 구분되어 입력됩니다. (-10^9 <= 각 원소의 값 <= 10^9)\n",
        "\n",
        "\n",
        "**출력 조건**\n",
        "\n",
        "*   수열의 원소 중에서 값이 x인 원소의 개수를 출력합니다. 단, 값이 x인 원소가 하나도 없다면 -1을 출력합니다.\n",
        "\n"
      ],
      "metadata": {
        "id": "CI_uX46FEO-3"
      }
    },
    {
      "cell_type": "markdown",
      "source": [
        "**입력예시1**\n",
        "\n",
        "7 2\n",
        "\n",
        "1 1 2 2 2 2 3\n",
        "\n",
        "**출력예시1**\n",
        "\n",
        "4\n",
        "\n",
        "**입력예시2**\n",
        "\n",
        "7 4\n",
        "\n",
        "1 1 2 2 2 2 3\n",
        "\n",
        "**출력예시2**\n",
        "\n",
        "-1"
      ],
      "metadata": {
        "id": "dWPdSbfNR0UU"
      }
    },
    {
      "cell_type": "code",
      "execution_count": null,
      "metadata": {
        "colab": {
          "base_uri": "https://localhost:8080/"
        },
        "id": "FK4ptw-JEGL2",
        "outputId": "10ea6317-6f64-4216-a708-9fc8cfc34639"
      },
      "outputs": [
        {
          "output_type": "stream",
          "name": "stdout",
          "text": [
            "7 2 \n",
            "1 2 2 2 2 2 4 5\n",
            "5\n"
          ]
        }
      ],
      "source": [
        "# 정렬된 수열에서 값이 x인 원소의 개수를 세는 방법\n",
        "def count_by_value(array, x):\n",
        "  # 데이터의 개수\n",
        "  n = len(array)\n",
        "\n",
        "  # x가 처음 등장한 인덱스 계산\n",
        "  a = first(array, x,0, n-1)\n",
        "\n",
        "  # 수열에 x가 존재하지 않는 경우\n",
        "  if a == None:\n",
        "    return 0 # 값이 x인 원소의 개수는 0개이므로 0 반환\n",
        "\n",
        "  # x가 마지막으로 등장한 인덱스 계산\n",
        "  b = last(array, x, 0, n-1)\n",
        "\n",
        "  # 개수를 반환\n",
        "  return b - a + 1\n",
        "\n",
        "# 처음 위치를 찾는 이진 탐색 방법\n",
        "def first(array, target, start, end):\n",
        "  if start > end:\n",
        "    return None\n",
        "  mid = (start + end) // 2\n",
        "  # 해당 값을 가지는 원소 중에서 가장 왼쪽에 있는 경우에만 인덱스 반환\n",
        "  if (mid == 0 or target > array[mid - 1]) and array[mid] == target:\n",
        "    return mid\n",
        "  # 중간점의 값 보다 찾고자 하는 값이 작거나 같은 경우 왼쪽 확인\n",
        "  elif array[mid] >= target:\n",
        "    return first(array, target, start, mid - 1)\n",
        "  # 중간점의 값 보다 찾고자 하는 값이 큰 경우 오른쪽 확인\n",
        "  else:\n",
        "    return first(array, target, mid + 1, end)\n",
        "\n",
        "# 마지막 위치를 찾는 이진 탐색 방법\n",
        "def last(array, target, start, end):\n",
        "  if start > end:\n",
        "    return None\n",
        "  mid = (start + end) // 2\n",
        "  # 해당 값을 가지는 원소 중에서 가장 오른쪽에 있는 경우에만 인덱스 반환\n",
        "  if (mid == n-1 or target < array[mid + 1]) and array[mid] == target:\n",
        "    return mid\n",
        "  # 중간점의 값 보다 찾고자 하는 값이 작은 경우 왼쪽 확인\n",
        "  elif array[mid] > target:\n",
        "    return last(array, target, start, mid - 1)\n",
        "  # 중간점의 값 보다 찾고자 하는 값이 크거나 같은 경우 오른쪽 확인\n",
        "  else:\n",
        "    return last(array, target, mid + 1, end)\n",
        "\n",
        "n, x = map(int, input().split()) # 데이터의 개수 N, 찾고자 하는 값 x를 입력받기\n",
        "array = list(map(int, input().split())) # 전체 데이터 입력받기\n",
        "\n",
        "# 값이 x인 데이터의 개수 계산\n",
        "count = count_by_value(array, x)\n",
        "\n",
        "# 값이 x인 원소가 존재하지 않는다면\n",
        "if count == 0:\n",
        "  print(-1)\n",
        "# 값이 x인 원소가 존재한다면\n",
        "else:\n",
        "  print(count)\n"
      ]
    },
    {
      "cell_type": "markdown",
      "source": [
        "## 고정점 찾기\n",
        "고정점이란, 수열의 원소 중에서 그 값이 인덱스와 동일한 원소를 의미합니다. 예를 들어, 열 a = {-15, -4, 2, 8, 13}이 있을 때 a[2] = 2 이므로, 고정점은 2가 됩니다. 하나의 수열이 N개의 서로 다른 원소를 포함하고 있으며, 모든 원소가 오름차순으로 정렬되어 있습니다. 이때 이 수열에서 고정점이 있다면, 고정점을 출력하는 프로그램을 작성하세요. 만약 고정점이 없다면 -1을 출력합니다. 단, 이 문제는 시간 복잡도 O(logN)으로 알고리즘을 설계하지 않으면 '시간초과' 판정을 받습니다.\n",
        "\n",
        "**입력 조건**\n",
        "\n",
        "*   첫째 줄에 N이 입력됩니다. (-1 <= N <= 1,000,000)\n",
        "*   둘째 줄에 N개의 원소가 정수 형태로 공백으로 구분되어 입력됩니다. (-10^9 <= 각 원소의 값 <= 10^9)\n",
        "\n",
        "\n",
        "**출력 조건**\n",
        "\n",
        "*   고정점을 출력한다. 고정점이 없다면 -1을 출력합니다.\n",
        "\n"
      ],
      "metadata": {
        "id": "Kga0lrO8OljX"
      }
    },
    {
      "cell_type": "markdown",
      "source": [
        "**입력예시1**\n",
        "\n",
        "5\n",
        "\n",
        "-15 -6 1 3 7\n",
        "\n",
        "**출력예시1**\n",
        "\n",
        "3\n",
        "\n",
        "\n",
        "**입력예시2**\n",
        "\n",
        "7\n",
        "\n",
        "-15 -4 2 8 9 13 15\n",
        "\n",
        "**출력예시2**\n",
        "\n",
        "2"
      ],
      "metadata": {
        "id": "QdDsjip7RebQ"
      }
    },
    {
      "cell_type": "code",
      "source": [
        "# 이진 탐색 소스코드 구현(재귀 함수)\n",
        "def binary_search(array, start,end) :\n",
        "  if start > end:\n",
        "    return None\n",
        "  mid = (start + end) // 2\n",
        "  # 고정점을 찾은 경우 인덱스 반환\n",
        "  if array[mid] == mid:\n",
        "    return mid\n",
        "  # 중간점이 가리키는 위치의 값보다 중간점이 작은 경우 왼쪽 확인\n",
        "  elif array[mid] > mid:\n",
        "    return binary_search(array,start,mid - 1)\n",
        "  # 중간점이 가리키는 위치의 값보다 중간점이 큰 경우 오른쪽 확인\n",
        "  else :\n",
        "    return binary_search(array,mid + 1, end)\n",
        "\n",
        "n = int(input())\n",
        "array = list(map(int, input().split()))\n",
        "\n",
        "# 이진 탐색(Binary Search) 수행\n",
        "index = binary_search(array, 0, n-1)\n",
        "\n",
        "# 고정점이 없는 경우 -1 출력\n",
        "if index == None:\n",
        "  print(-1)\n",
        "# 고정점이 있는 경우 해당 인덱스 출력\n",
        "else:\n",
        "  print(index)"
      ],
      "metadata": {
        "colab": {
          "base_uri": "https://localhost:8080/"
        },
        "id": "AQ3qLfEDNXeR",
        "outputId": "d2395c7c-1bf8-4ff8-88bb-544405c5864e"
      },
      "execution_count": null,
      "outputs": [
        {
          "output_type": "stream",
          "name": "stdout",
          "text": [
            "5\n",
            "-15 -6 1 3 7\n",
            "3\n"
          ]
        }
      ]
    }
  ]
}