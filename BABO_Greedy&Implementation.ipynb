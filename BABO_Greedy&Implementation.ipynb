{
  "nbformat": 4,
  "nbformat_minor": 0,
  "metadata": {
    "colab": {
      "provenance": []
    },
    "kernelspec": {
      "name": "python3",
      "display_name": "Python 3"
    },
    "language_info": {
      "name": "python"
    }
  },
  "cells": [
    {
      "cell_type": "markdown",
      "source": [
        "# 그리디(Greedy)"
      ],
      "metadata": {
        "id": "_AfKHRw5grwc"
      }
    },
    {
      "cell_type": "markdown",
      "source": [
        "## 동전 거슬러주기 문제\n",
        "예를 들어, 500원, 100원, 50원, 10원의 동전이 있을 때, 주어진 금액을 최소 개수의 동전으로 거슬러주려면 어떻게 해야 할까요?"
      ],
      "metadata": {
        "id": "0nNq-IQdh4mS"
      }
    },
    {
      "cell_type": "code",
      "execution_count": null,
      "metadata": {
        "colab": {
          "base_uri": "https://localhost:8080/"
        },
        "id": "peyLJwPLgkHF",
        "outputId": "2fa1f04c-506c-45e8-e9c5-0dab5ad7919a"
      },
      "outputs": [
        {
          "output_type": "stream",
          "name": "stdout",
          "text": [
            "6\n"
          ]
        }
      ],
      "source": [
        "def coin_change(n,coin_types):\n",
        "  count = 0\n",
        "  for coin in coin_types:\n",
        "    count += n // coin # 몫 ( // ) ex.10//3 -> 3\n",
        "    n %= coin  # a%=b : a를 b로 나눈 후 그 나머지를 a에 할당한다.(나머지 ( % ) ex. 10%3 -> 1)\n",
        "  return count\n",
        "\n",
        "coins = [500,100,50,10]\n",
        "n = 1260\n",
        "print(coin_change(n,coins))"
      ]
    },
    {
      "cell_type": "markdown",
      "source": [
        "## 회의실 배정 문제\n",
        "여러 개의 회의가 있고, 각 회의는 시작 시간과 종료 시간이 주어진다.한 개의 회의실에서 회의들이 겹치지 않게 하면서, 가장 많은 회의 수를 배정하는 것이 목표다"
      ],
      "metadata": {
        "id": "JxOLufBNj-nF"
      }
    },
    {
      "cell_type": "code",
      "source": [
        "def max_meetings(meetings):\n",
        "    meetings.sort(key = lambda x : x[1]) # 종료 시간 순서대로 오름차순 정렬\n",
        "    end_time = 0\n",
        "    count = 0\n",
        "\n",
        "    for meeting in meetings:\n",
        "      if meeting[0] >= end_time: # 회의 시작 시간(meeting[0])이 end_time보다 같거나 늦다면, 해당 회의의 end_time으로 end_time을 업데이트하고 count를 1 증가\n",
        "        end_time = meeting[1]\n",
        "        count += 1\n",
        "    return count\n",
        "\n",
        "meetings = [(1, 4), (2, 3), (3, 5), (6, 7), (8, 9)]\n",
        "print(max_meetings(meetings))"
      ],
      "metadata": {
        "colab": {
          "base_uri": "https://localhost:8080/"
        },
        "id": "XBvubUVDmMDV",
        "outputId": "182e3b20-74ba-4341-c71a-a3fef57a66ff"
      },
      "execution_count": null,
      "outputs": [
        {
          "output_type": "stream",
          "name": "stdout",
          "text": [
            "4\n"
          ]
        }
      ]
    },
    {
      "cell_type": "markdown",
      "source": [
        "## 구현(Implementation)"
      ],
      "metadata": {
        "id": "ceFY11y-n4Zz"
      }
    },
    {
      "cell_type": "markdown",
      "source": [
        "### 상하좌우\n",
        "N × N 크기의 정사각형 공간이 있고,\n",
        "그 안에서 (1,1) 위치에 있는 사람이 L, R, U, D 명령에 따라 이동한다.\n",
        "\n",
        "L : 왼쪽(←)\n",
        "\n",
        "R : 오른쪽(→)\n",
        "\n",
        "U : 위쪽(↑)\n",
        "\n",
        "D : 아래쪽(↓)\n",
        "\n",
        "단! 공간을 벗어나는 이동은 무시된다."
      ],
      "metadata": {
        "id": "KA-PiJgMqZVf"
      }
    },
    {
      "cell_type": "code",
      "source": [
        "n = 5\n",
        "plans = [\"R\", \"R\", \"R\", \"U\", \"D\", \"D\"]\n",
        "x,y = 1,1 # 시작 위치\n",
        "\n",
        "# 방향 설정\n",
        "dx = [0,0,-1,1]\n",
        "dy = [-1,1,0,0]\n",
        "move_types = ['L','R','U','D']\n",
        "\n",
        "for plan in plans:\n",
        "  for i in range(len(move_types)):\n",
        "    if plan == move_types[i]:\n",
        "      nx = x + dx[i]\n",
        "      ny = y + dy[i]\n",
        "\n",
        "  # 공간을 벗어나는 경우 무시\n",
        "  if nx < 1 or ny < 1 or nx > n or ny > n:\n",
        "    continue  # 이 조건에 해당하면 아래 코드(x, y = nx, ny)를 건너뛰고, 다음 for plan in plans: 반복으로 넘어감\n",
        "  x,y = nx,ny\n",
        "\n",
        "print(x,y)"
      ],
      "metadata": {
        "id": "Uhwyewahnrz9",
        "colab": {
          "base_uri": "https://localhost:8080/"
        },
        "outputId": "bb6c1035-5d9a-4d0e-e8b1-76f41c22b1d3"
      },
      "execution_count": 4,
      "outputs": [
        {
          "output_type": "stream",
          "name": "stdout",
          "text": [
            "3 4\n"
          ]
        }
      ]
    },
    {
      "cell_type": "markdown",
      "source": [
        "### 시각 문제\n",
        "정수 N이 주어졌을 때,\n",
        "00시 00분 00초부터 N시 59분 59초까지\n",
        "'3'이 하나라도 포함된 시간의 경우의 수를 구하는 문제이다."
      ],
      "metadata": {
        "id": "gpmolO8CsYVF"
      }
    },
    {
      "cell_type": "code",
      "source": [
        "N = 2\n",
        "count = 0\n",
        "\n",
        "for h in range(N+1):\n",
        "  for m in range(60):\n",
        "    for s in range(60):\n",
        "      # 매 시각 안에 '3'이 포함되어 있다면 카운트 증가\n",
        "      if '3' in str(h) + str(m) + str(s):\n",
        "        count += 1\n",
        "\n",
        "print(count)"
      ],
      "metadata": {
        "colab": {
          "base_uri": "https://localhost:8080/"
        },
        "id": "CzFbBEgPtCEn",
        "outputId": "b2e1851d-e835-4843-e9d4-71eaffe9e194"
      },
      "execution_count": 3,
      "outputs": [
        {
          "output_type": "stream",
          "name": "stdout",
          "text": [
            "4725\n"
          ]
        }
      ]
    },
    {
      "cell_type": "code",
      "source": [],
      "metadata": {
        "id": "NfowxqOStL7S"
      },
      "execution_count": null,
      "outputs": []
    }
  ]
}